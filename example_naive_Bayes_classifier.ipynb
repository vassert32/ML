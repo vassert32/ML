{
  "nbformat": 4,
  "nbformat_minor": 0,
  "metadata": {
    "colab": {
      "provenance": []
    },
    "kernelspec": {
      "name": "python3",
      "display_name": "Python 3"
    },
    "language_info": {
      "name": "python"
    }
  },
  "cells": [
    {
      "cell_type": "code",
      "execution_count": null,
      "metadata": {
        "id": "1ZQxRApmM2Is"
      },
      "outputs": [],
      "source": [
        "import numpy as np\n",
        "import matplotlib.pyplot as plt\n",
        "\n",
        "x_train = np.array([[10, 50], [20, 30], [25, 30], [20, 60], [15, 70], [40, 40], [30, 45], [20, 45], [40, 30], [7, 35]])\n",
        "y_train = np.array([-1, 1, 1, -1, -1, 1, 1, -1, 1, -1])\n",
        "\n",
        "# мат. ожидание\n",
        "mw1, ml1 = np.mean(x_train[y_train == 1], axis=0)\n",
        "mw_1, ml_1 = np.mean(x_train[y_train == -1], axis=0)\n",
        "\n",
        "# дисперсия (для стандартного отклонения)\n",
        "sw1, sl1 = np.var(x_train[y_train == 1], axis=0)\n",
        "sw_1, sl_1 = np.var(x_train[y_train == -1], axis=0)\n",
        "\n",
        "print('МО: ', mw1, ml1, mw_1, ml_1)\n",
        "print('Дисперсии:', sw1, sl1, sw_1, sl_1)\n",
        "\n",
        "\n",
        "# формулы см. конспект\n",
        "def GaussianNB(x):\n",
        "    a_1 = lambda x: -(x[0] - ml_1) ** 2 / (2 * sl_1) - (x[1] - mw_1) ** 2 / (2 * sw_1)\n",
        "    a1 = lambda x: -(x[0] - ml1) ** 2 / (2 * sl1) - (x[1] - mw1) ** 2 / (2 * sw1)\n",
        "    return np.argmax([a_1(x), a1(x)])\n",
        "\n",
        "y = GaussianNB([40, 10])  # длинв, ширина жука\n",
        "\n",
        "print('Номер класса (0 - гусеница, 1 - божья коровка): ', y)"
      ]
    }
  ]
}